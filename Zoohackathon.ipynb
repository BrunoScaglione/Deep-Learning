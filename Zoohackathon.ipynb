{
  "nbformat": 4,
  "nbformat_minor": 0,
  "metadata": {
    "colab": {
      "name": "Zoohackathon.ipynb",
      "provenance": [],
      "collapsed_sections": [],
      "include_colab_link": true
    },
    "kernelspec": {
      "name": "python3",
      "display_name": "Python 3"
    }
  },
  "cells": [
    {
      "cell_type": "markdown",
      "metadata": {
        "id": "view-in-github",
        "colab_type": "text"
      },
      "source": [
        "<a href=\"https://colab.research.google.com/github/BrunoScaglione/Deep-Learning/blob/master/Zoohackathon.ipynb\" target=\"_parent\"><img src=\"https://colab.research.google.com/assets/colab-badge.svg\" alt=\"Open In Colab\"/></a>"
      ]
    },
    {
      "cell_type": "markdown",
      "metadata": {
        "id": "MXoPEsVfMn3B",
        "colab_type": "text"
      },
      "source": [
        "# Imports"
      ]
    },
    {
      "cell_type": "code",
      "metadata": {
        "id": "1lMlUyJcMmoq",
        "colab_type": "code",
        "outputId": "07951cbf-5adf-4df0-d3ec-b6df45a0ccf7",
        "colab": {
          "base_uri": "https://localhost:8080/",
          "height": 345
        }
      },
      "source": [
        "import json\n",
        "import pandas as pd\n",
        "import re\n"
      ],
      "execution_count": 0,
      "outputs": [
        {
          "output_type": "error",
          "ename": "ModuleNotFoundError",
          "evalue": "ignored",
          "traceback": [
            "\u001b[0;31m---------------------------------------------------------------------------\u001b[0m",
            "\u001b[0;31mModuleNotFoundError\u001b[0m                       Traceback (most recent call last)",
            "\u001b[0;32m<ipython-input-1-015bc9ba7319>\u001b[0m in \u001b[0;36m<module>\u001b[0;34m()\u001b[0m\n\u001b[1;32m      2\u001b[0m \u001b[0;32mimport\u001b[0m \u001b[0mpandas\u001b[0m \u001b[0;32mas\u001b[0m \u001b[0mpd\u001b[0m\u001b[0;34m\u001b[0m\u001b[0;34m\u001b[0m\u001b[0m\n\u001b[1;32m      3\u001b[0m \u001b[0;32mimport\u001b[0m \u001b[0mre\u001b[0m\u001b[0;34m\u001b[0m\u001b[0;34m\u001b[0m\u001b[0m\n\u001b[0;32m----> 4\u001b[0;31m \u001b[0;32mimport\u001b[0m \u001b[0mfacebook\u001b[0m\u001b[0;34m\u001b[0m\u001b[0;34m\u001b[0m\u001b[0m\n\u001b[0m",
            "\u001b[0;31mModuleNotFoundError\u001b[0m: No module named 'facebook'",
            "",
            "\u001b[0;31m---------------------------------------------------------------------------\u001b[0;32m\nNOTE: If your import is failing due to a missing package, you can\nmanually install dependencies using either !pip or !apt.\n\nTo view examples of installing some common dependencies, click the\n\"Open Examples\" button below.\n\u001b[0;31m---------------------------------------------------------------------------\u001b[0m\n"
          ]
        }
      ]
    },
    {
      "cell_type": "markdown",
      "metadata": {
        "id": "u3VivOXnB2ML",
        "colab_type": "text"
      },
      "source": [
        "# Pré - Processamento dos Dados"
      ]
    },
    {
      "cell_type": "code",
      "metadata": {
        "id": "1eHHQfLl9mvC",
        "colab_type": "code",
        "colab": {}
      },
      "source": [
        "\n",
        "data = []\n",
        "file_name = 'request_data'\n",
        "with open(f'{file_name}.json') as f:\n",
        "\tfor line in f:\n",
        "\t\treview = json.loads(line)\n",
        "\t\t# alguma coisa que eu queira fazer e depois coloco em data\n",
        "\n",
        "f.close()\n",
        "\n",
        "#print(len(data)\n",
        "#print(data[0:5])\n",
        "\n",
        "with open(f'{file_name}.json', 'w') as f:\n",
        "\tfor review in data:\n",
        "\t\tf.write(json.dumps(review)+'\\n')\n",
        "  "
      ],
      "execution_count": 0,
      "outputs": []
    },
    {
      "cell_type": "markdown",
      "metadata": {
        "id": "F1RmhwoRB_TK",
        "colab_type": "text"
      },
      "source": [
        "# Análise dos Dados"
      ]
    },
    {
      "cell_type": "code",
      "metadata": {
        "id": "l8BQwH8wb5R1",
        "colab_type": "code",
        "colab": {}
      },
      "source": [
        ""
      ],
      "execution_count": 0,
      "outputs": []
    },
    {
      "cell_type": "code",
      "metadata": {
        "id": "adyIy6tkDN_Y",
        "colab_type": "code",
        "colab": {}
      },
      "source": [
        "df = pd.read_json('{file_name}.json')\n",
        "df['ilegalidade'] = 0\n",
        "\n",
        "\n",
        "words_level_1 =['vend(o|a|e|ido|eu|er|e-se|endo)', , 'compr(o|a|ar|ando|ado)', 'aceit(o|a)', 'interessado(s)?',\n",
        "        'privado','pv', 'envi(o|a|ar|ando)', 'parcela(mento)?', 'parcela(n)?do', 'wpp', 'whats', 'zap(zap)?', 'whatsapp', 'wats', 'wats', 'watsap', 'watzap', 'watsapp', 'watzapp' 'wapp', 'wap', 'pre(c|ç)o', '(.\\d\\d..)?\\d\\d\\d\\d\\d\\d\\d\\d\\d', 'procuro', 'entrego', 'nota', 'fiscal', 'mama', 'desmama(do(s)?)?', 'vivo', 'transport(e|a)', 'custo(so)?', 'disponivel(izado)?','valor(es)?', 'chat', 'regulariz(a|ado|acao)', 'legaliz(ar|ado|a)', 'micro', 'chip', 'Ibama', 'cria(douro)?', 'criadouro', 'criador',  'nasc(e|eu|er)', 'metr(o|ô)', 'esta(c|ç)(a|ã)o', 'trem', 'reservo', 'reservado', 'msg', 'mensagem', 'troca', 'chama', 'lacrimeja', 'cara', '$', 'gaiola', 'rolo', 'coleira', 'cant(a|ar)','anilha(do)?', 'cativeiro','cart(a|ã)o', 'taxa', 'verdadeiro', 'busca(r)', 'contato']\n",
        "treshold_level_1 = 0.033\n",
        "words_level_2 =['macho(s)?', 'f(e|ê)mea(s)?',  'filhote', 'filhotinho', 'filhotin', 'adulto', 'gen(e|é)tica', 'exotico', 'silvestre', 'sexo', 'docil', 'meses', 'mes', 'pedindo', 'quero', 'ano(s)?', 'caro', 'vendedor', 'adquiri', 'dinheiro', 'olho', 'proposta', 'bonito', 'a(c|ç)o', 'p(e|é)', 'ra(c|ç)a', 'ca(c|ç)a', 'raro']\n",
        "treshold_level_2 = 0.1\n",
        "\n",
        "\n",
        "\n",
        "for index, row in df.iterrows():\n",
        "  numero_de_verdades_1,  numero_de_verdades_2 = 0, 0\n",
        "  numero_de_palavras = len(row['texto'].split())\n",
        "\n",
        "  for word_1 in words_level_1:\n",
        "    match_1 = re.match(word1, row['texto'], re.I, re.U)\n",
        "    if match1:\n",
        "      numero_de_verdades_1 += 1 \n",
        "  fator_de_palavras_1 = numero_de_verdades_1/numero_de_palavras\n",
        "  if fator_de_palavras >= treshold_level1:\n",
        "    row['ilegalidade'] = 1\n",
        "  \n",
        "  elif:\n",
        "    for word_2 in words_level_2:\n",
        "      match_2 = re.match(word_2, row['texto'], re.I, re.U)\n",
        "      if match_2:\n",
        "        numero_de_verdades_2 += 1 \n",
        "    fator_de_palavras_2 = numero_de_verdades_/numero_de_palavras \n",
        "    if fator_de_palavras >= treshold_level2:\n",
        "      row['ilegalidade'] = 1\n",
        "\n",
        "\n",
        "  \n",
        "\n",
        "\n",
        "\n",
        "\n",
        "\n",
        "\n",
        "\n",
        "\n",
        "\n",
        "\n",
        "  \n",
        "\n",
        "\n",
        "\n",
        "      \n",
        "\n",
        "\n",
        "        \n",
        "\n",
        "\n",
        "    \n",
        "\n",
        "\n",
        "\n",
        "\n",
        "\n",
        "\n",
        "\n",
        "\n",
        "\n",
        "    "
      ],
      "execution_count": 0,
      "outputs": []
    },
    {
      "cell_type": "code",
      "metadata": {
        "id": "uNRs7wm6Hulj",
        "colab_type": "code",
        "colab": {}
      },
      "source": [
        "\n",
        "   \n",
        "\n",
        "\n"
      ],
      "execution_count": 0,
      "outputs": []
    }
  ]
}